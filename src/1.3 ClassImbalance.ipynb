{
 "cells": [
  {
   "cell_type": "code",
   "execution_count": 3,
   "metadata": {
    "id": "_-zeV4p0Du8C"
   },
   "outputs": [],
   "source": [
    "import pandas as pd\n",
    "import numpy as np\n",
    "import multiprocessing\n",
    "import warnings\n",
    "import matplotlib.pyplot as plt\n",
    "import seaborn as sns\n",
    "import lightgbm as lgb\n",
    "import gc\n",
    "from time import time\n",
    "import datetime\n",
    "from tqdm import tqdm_notebook\n",
    "from sklearn.preprocessing import LabelEncoder\n",
    "from sklearn.model_selection import KFold, TimeSeriesSplit\n",
    "from sklearn.metrics import roc_auc_score\n",
    "warnings.simplefilter('ignore')\n",
    "sns.set()\n",
    "%matplotlib inline\n",
    "from fancyimpute import KNN\n",
    "from sklearn.model_selection import StratifiedKFold\n",
    "from sklearn.impute import SimpleImputer\n",
    "import json\n",
    "import os\n",
    "from xgboost import XGBClassifier\n",
    "from sklearn.metrics import mean_squared_error\n",
    "from sklearn.model_selection import GridSearchCV\n",
    "from sklearn.ensemble import RandomForestRegressor\n",
    "import time\n",
    "\n",
    "from imblearn.over_sampling import SMOTE\n",
    "from imblearn.under_sampling import RandomUnderSampler\n",
    "from imblearn.pipeline import Pipeline\n"
   ]
  },
  {
   "cell_type": "code",
   "execution_count": 4,
   "metadata": {},
   "outputs": [],
   "source": [
    "# Read Files\n",
    "X_train = pd.read_csv('../data/output/rf_imputed_X_train.csv', index_col=0)\n",
    "X_test = pd.read_csv('../data/output/rf_imputed_X_test.csv', index_col = 0)\n",
    "\n",
    "y_train = pd.read_csv('../data/output/y_train.csv')['isFraud']\n",
    "y_test = pd.read_csv('../data/output/y_test.csv')['isFraud']"
   ]
  },
  {
   "cell_type": "code",
   "execution_count": 5,
   "metadata": {},
   "outputs": [
    {
     "data": {
      "text/plain": [
       "((472432, 308), (472432,))"
      ]
     },
     "execution_count": 5,
     "metadata": {},
     "output_type": "execute_result"
    }
   ],
   "source": [
    "X_train.shape, y_train.shape"
   ]
  },
  {
   "cell_type": "code",
   "execution_count": 6,
   "metadata": {},
   "outputs": [
    {
     "data": {
      "text/plain": [
       "((118108, 308), (118108,))"
      ]
     },
     "execution_count": 6,
     "metadata": {},
     "output_type": "execute_result"
    }
   ],
   "source": [
    "X_test.shape, y_test.shape"
   ]
  },
  {
   "cell_type": "code",
   "execution_count": 7,
   "metadata": {},
   "outputs": [
    {
     "data": {
      "text/html": [
       "<div>\n",
       "<style scoped>\n",
       "    .dataframe tbody tr th:only-of-type {\n",
       "        vertical-align: middle;\n",
       "    }\n",
       "\n",
       "    .dataframe tbody tr th {\n",
       "        vertical-align: top;\n",
       "    }\n",
       "\n",
       "    .dataframe thead th {\n",
       "        text-align: right;\n",
       "    }\n",
       "</style>\n",
       "<table border=\"1\" class=\"dataframe\">\n",
       "  <thead>\n",
       "    <tr style=\"text-align: right;\">\n",
       "      <th></th>\n",
       "      <th>TransactionAmt</th>\n",
       "      <th>ProductCD</th>\n",
       "      <th>card1</th>\n",
       "      <th>card2</th>\n",
       "      <th>card3</th>\n",
       "      <th>card4</th>\n",
       "      <th>card5</th>\n",
       "      <th>card6</th>\n",
       "      <th>addr1</th>\n",
       "      <th>addr2</th>\n",
       "      <th>...</th>\n",
       "      <th>uid_cents_ct</th>\n",
       "      <th>C14_uid_std</th>\n",
       "      <th>uid_C13_ct</th>\n",
       "      <th>uid_V314_ct</th>\n",
       "      <th>uid_V127_ct</th>\n",
       "      <th>uid_V136_ct</th>\n",
       "      <th>uid_V309_ct</th>\n",
       "      <th>uid_V307_ct</th>\n",
       "      <th>uid_V320_ct</th>\n",
       "      <th>outsider15</th>\n",
       "    </tr>\n",
       "  </thead>\n",
       "  <tbody>\n",
       "    <tr>\n",
       "      <th>0</th>\n",
       "      <td>68.5</td>\n",
       "      <td>4</td>\n",
       "      <td>13926.0</td>\n",
       "      <td>369.180356</td>\n",
       "      <td>150.0</td>\n",
       "      <td>1</td>\n",
       "      <td>142.0</td>\n",
       "      <td>1</td>\n",
       "      <td>315.0</td>\n",
       "      <td>87.0</td>\n",
       "      <td>...</td>\n",
       "      <td>1.0</td>\n",
       "      <td>-1.0</td>\n",
       "      <td>1.0</td>\n",
       "      <td>1.0</td>\n",
       "      <td>1.0</td>\n",
       "      <td>1.0</td>\n",
       "      <td>1.0</td>\n",
       "      <td>1.0</td>\n",
       "      <td>1.0</td>\n",
       "      <td>1</td>\n",
       "    </tr>\n",
       "    <tr>\n",
       "      <th>1</th>\n",
       "      <td>29.0</td>\n",
       "      <td>4</td>\n",
       "      <td>2755.0</td>\n",
       "      <td>404.000000</td>\n",
       "      <td>150.0</td>\n",
       "      <td>2</td>\n",
       "      <td>102.0</td>\n",
       "      <td>1</td>\n",
       "      <td>325.0</td>\n",
       "      <td>87.0</td>\n",
       "      <td>...</td>\n",
       "      <td>1.0</td>\n",
       "      <td>-1.0</td>\n",
       "      <td>1.0</td>\n",
       "      <td>1.0</td>\n",
       "      <td>1.0</td>\n",
       "      <td>1.0</td>\n",
       "      <td>1.0</td>\n",
       "      <td>1.0</td>\n",
       "      <td>1.0</td>\n",
       "      <td>0</td>\n",
       "    </tr>\n",
       "    <tr>\n",
       "      <th>2</th>\n",
       "      <td>59.0</td>\n",
       "      <td>4</td>\n",
       "      <td>4663.0</td>\n",
       "      <td>490.000000</td>\n",
       "      <td>150.0</td>\n",
       "      <td>4</td>\n",
       "      <td>166.0</td>\n",
       "      <td>2</td>\n",
       "      <td>330.0</td>\n",
       "      <td>87.0</td>\n",
       "      <td>...</td>\n",
       "      <td>1.0</td>\n",
       "      <td>0.0</td>\n",
       "      <td>4.0</td>\n",
       "      <td>1.0</td>\n",
       "      <td>2.0</td>\n",
       "      <td>1.0</td>\n",
       "      <td>1.0</td>\n",
       "      <td>2.0</td>\n",
       "      <td>1.0</td>\n",
       "      <td>1</td>\n",
       "    </tr>\n",
       "    <tr>\n",
       "      <th>3</th>\n",
       "      <td>50.0</td>\n",
       "      <td>4</td>\n",
       "      <td>18132.0</td>\n",
       "      <td>567.000000</td>\n",
       "      <td>150.0</td>\n",
       "      <td>2</td>\n",
       "      <td>117.0</td>\n",
       "      <td>2</td>\n",
       "      <td>476.0</td>\n",
       "      <td>87.0</td>\n",
       "      <td>...</td>\n",
       "      <td>1.0</td>\n",
       "      <td>0.0</td>\n",
       "      <td>23.0</td>\n",
       "      <td>1.0</td>\n",
       "      <td>82.0</td>\n",
       "      <td>10.0</td>\n",
       "      <td>9.0</td>\n",
       "      <td>81.0</td>\n",
       "      <td>10.0</td>\n",
       "      <td>0</td>\n",
       "    </tr>\n",
       "    <tr>\n",
       "      <th>4</th>\n",
       "      <td>50.0</td>\n",
       "      <td>1</td>\n",
       "      <td>4497.0</td>\n",
       "      <td>514.000000</td>\n",
       "      <td>150.0</td>\n",
       "      <td>2</td>\n",
       "      <td>102.0</td>\n",
       "      <td>1</td>\n",
       "      <td>420.0</td>\n",
       "      <td>87.0</td>\n",
       "      <td>...</td>\n",
       "      <td>1.0</td>\n",
       "      <td>-1.0</td>\n",
       "      <td>1.0</td>\n",
       "      <td>1.0</td>\n",
       "      <td>1.0</td>\n",
       "      <td>1.0</td>\n",
       "      <td>1.0</td>\n",
       "      <td>1.0</td>\n",
       "      <td>1.0</td>\n",
       "      <td>0</td>\n",
       "    </tr>\n",
       "  </tbody>\n",
       "</table>\n",
       "<p>5 rows × 308 columns</p>\n",
       "</div>"
      ],
      "text/plain": [
       "   TransactionAmt  ProductCD    card1       card2  card3  card4  card5  card6  \\\n",
       "0            68.5          4  13926.0  369.180356  150.0      1  142.0      1   \n",
       "1            29.0          4   2755.0  404.000000  150.0      2  102.0      1   \n",
       "2            59.0          4   4663.0  490.000000  150.0      4  166.0      2   \n",
       "3            50.0          4  18132.0  567.000000  150.0      2  117.0      2   \n",
       "4            50.0          1   4497.0  514.000000  150.0      2  102.0      1   \n",
       "\n",
       "   addr1  addr2  ...  uid_cents_ct  C14_uid_std  uid_C13_ct  uid_V314_ct  \\\n",
       "0  315.0   87.0  ...           1.0         -1.0         1.0          1.0   \n",
       "1  325.0   87.0  ...           1.0         -1.0         1.0          1.0   \n",
       "2  330.0   87.0  ...           1.0          0.0         4.0          1.0   \n",
       "3  476.0   87.0  ...           1.0          0.0        23.0          1.0   \n",
       "4  420.0   87.0  ...           1.0         -1.0         1.0          1.0   \n",
       "\n",
       "   uid_V127_ct  uid_V136_ct  uid_V309_ct  uid_V307_ct  uid_V320_ct  outsider15  \n",
       "0          1.0          1.0          1.0          1.0          1.0           1  \n",
       "1          1.0          1.0          1.0          1.0          1.0           0  \n",
       "2          2.0          1.0          1.0          2.0          1.0           1  \n",
       "3         82.0         10.0          9.0         81.0         10.0           0  \n",
       "4          1.0          1.0          1.0          1.0          1.0           0  \n",
       "\n",
       "[5 rows x 308 columns]"
      ]
     },
     "execution_count": 7,
     "metadata": {},
     "output_type": "execute_result"
    }
   ],
   "source": [
    "X_train.head()"
   ]
  },
  {
   "cell_type": "code",
   "execution_count": 8,
   "metadata": {},
   "outputs": [
    {
     "data": {
      "text/plain": [
       "0         0\n",
       "1         0\n",
       "2         0\n",
       "3         0\n",
       "4         0\n",
       "         ..\n",
       "472427    0\n",
       "472428    0\n",
       "472429    0\n",
       "472430    0\n",
       "472431    0\n",
       "Name: isFraud, Length: 472432, dtype: int64"
      ]
     },
     "execution_count": 8,
     "metadata": {},
     "output_type": "execute_result"
    }
   ],
   "source": [
    "y_train"
   ]
  },
  {
   "cell_type": "markdown",
   "metadata": {},
   "source": [
    "## Over/Under Sampling"
   ]
  },
  {
   "cell_type": "code",
   "execution_count": 9,
   "metadata": {},
   "outputs": [
    {
     "data": {
      "image/png": "[encoded data removed]",
      "text/plain": [
       "<Figure size 800x500 with 1 Axes>"
      ]
     },
     "metadata": {},
     "output_type": "display_data"
    }
   ],
   "source": [
    "# Calculate value counts\n",
    "value_counts = y_train.value_counts()\n",
    "\n",
    "# Plot the bar chart\n",
    "plt.figure(figsize=(8, 5))\n",
    "value_counts.plot(kind='bar', color=['blue', 'orange'], alpha=0.7)\n",
    "plt.title('Class Distribution in y_train')\n",
    "plt.xlabel('Class')\n",
    "plt.ylabel('Frequency')\n",
    "plt.xticks(ticks=[0, 1], labels=['Not Fraud', 'Fraud'], rotation=0)\n",
    "plt.show()"
   ]
  },
  {
   "cell_type": "code",
   "execution_count": 10,
   "metadata": {},
   "outputs": [
    {
     "data": {
      "text/plain": [
       "isFraud\n",
       "0    455833\n",
       "1     16599\n",
       "Name: count, dtype: int64"
      ]
     },
     "execution_count": 10,
     "metadata": {},
     "output_type": "execute_result"
    }
   ],
   "source": [
    "value_counts"
   ]
  },
  {
   "cell_type": "code",
   "execution_count": 11,
   "metadata": {},
   "outputs": [
    {
     "name": "stdout",
     "output_type": "stream",
     "text": [
      "Class distribution after RandomUnderSampler:\n",
      "isFraud\n",
      "0    331980\n",
      "1     16599\n",
      "Name: count, dtype: int64\n",
      "Class distribution after SMOTETomek:\n",
      "isFraud\n",
      "0    328706\n",
      "1    129518\n",
      "Name: count, dtype: int64\n"
     ]
    }
   ],
   "source": [
    "from imblearn.under_sampling import RandomUnderSampler\n",
    "from imblearn.combine import SMOTETomek\n",
    "\n",
    "# Step 1: Reduce the majority class with RandomUnderSampler\n",
    "rus = RandomUnderSampler(sampling_strategy=0.05, random_state=42)  # Adjust the sampling ratio for initial undersampling\n",
    "X_under, y_under = rus.fit_resample(X_train, y_train)\n",
    "\n",
    "print(\"Class distribution after RandomUnderSampler:\")\n",
    "print(y_under.value_counts())\n",
    "\n",
    "# Step 2: Apply SMOTETomek to create a 70-30 balanced dataset\n",
    "smote_tomek = SMOTETomek(sampling_strategy=0.4, random_state=42, n_jobs=-1)\n",
    "X_resampled, y_resampled = smote_tomek.fit_resample(X_under, y_under)\n",
    "\n",
    "print(\"Class distribution after SMOTETomek:\")\n",
    "print(y_resampled.value_counts())"
   ]
  },
  {
   "cell_type": "code",
   "execution_count": 12,
   "metadata": {},
   "outputs": [],
   "source": [
    "def plot_2d_space(X_train, y_train,X,y,label='Classes'):   \n",
    "    colors = ['#1F77B4', '#FF7F0E']\n",
    "    markers = ['o', 's']\n",
    "    \n",
    "    fig,(ax1,ax2)=plt.subplots(1,2, figsize=(8,4))\n",
    "   \n",
    "    for l, c, m in zip(np.unique(y), colors, markers):\n",
    "        ax1.scatter(\n",
    "            X_train[y_train==l, 0],\n",
    "            X_train[y_train==l, 1],\n",
    "            c=c, label=l, marker=m\n",
    "        )\n",
    "    for l, c, m in zip(np.unique(y), colors, markers):\n",
    "        ax2.scatter(\n",
    "            X[y==l, 0],\n",
    "            X[y==l, 1],\n",
    "            c=c, label=l, marker=m\n",
    "        )\n",
    "   \n",
    "    ax1.set_title(label)\n",
    "    ax2.set_title('original data')\n",
    "    plt.legend(loc='upper right')\n",
    "    plt.show()"
   ]
  },
  {
   "cell_type": "code",
   "execution_count": 13,
   "metadata": {},
   "outputs": [],
   "source": [
    "X_resampled.to_csv('../data/output/resampled_rf_imputed_X_train.csv')\n",
    "y_resampled.to_csv('../data/output/resampled_y_train.csv')"
   ]
  },
  {
   "cell_type": "code",
   "execution_count": 14,
   "metadata": {},
   "outputs": [],
   "source": [
    "# plot_2d_space(X_resampled, y_resampled, X_train, y_train,'SMOTE with Tomek Links')"
   ]
  }
 ],
 "metadata": {
  "colab": {
   "provenance": []
  },
  "kernelspec": {
   "display_name": "Python 3",
   "language": "python",
   "name": "python3"
  },
  "language_info": {
   "codemirror_mode": {
    "name": "ipython",
    "version": 3
   },
   "file_extension": ".py",
   "mimetype": "text/x-python",
   "name": "python",
   "nbconvert_exporter": "python",
   "pygments_lexer": "ipython3",
   "version": "3.11.9"
  },
  "orig_nbformat": 4
 },
 "nbformat": 4,
 "nbformat_minor": 0
}
